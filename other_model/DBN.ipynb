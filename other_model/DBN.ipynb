{
 "cells": [
  {
   "cell_type": "code",
   "execution_count": 1,
   "metadata": {},
   "outputs": [],
   "source": [
    "import math\n",
    "import copy\n",
    "import numpy as np\n",
    "import pickle\n",
    "from RBM import *\n",
    "import matplotlib.pyplot as plt"
   ]
  },
  {
   "cell_type": "code",
   "execution_count": 2,
   "metadata": {},
   "outputs": [],
   "source": [
    "class DBN:\n",
    "    def __init__(self, n_v, layers, k=1):\n",
    "        \"\"\"\n",
    "        Initialization\n",
    "        Args:\n",
    "            n_v: the visible layer dimension\n",
    "            layers: a list, the dimension of each hidden layer, e.g,, [500, 784]\n",
    "            k: the number of gibbs sampling steps\n",
    "        \"\"\"\n",
    "        self.n_v = n_v\n",
    "        self.layer_n = layers\n",
    "        self.k = k\n",
    "        \n",
    "        self.layer = [RBM(self.layer_n[i+1], self.layer_n[i], k, lr=0.01) for i in range(len(self.layer_n) - 1)]\n",
    "        self.layer.reverse()\n",
    "        \n",
    "    def train(self, X):\n",
    "        for layer in self.layer:\n",
    "            for i in range(args.max_epoch):\n",
    "                layer.update(X)\n",
    "            X = layer.sample_h(X)[0]\n",
    "            \n",
    "    def generate(self, n_sample=100, k=1000):\n",
    "        \"\"\"\n",
    "        Sample generation\n",
    "        Args:\n",
    "            n_sample: number of samples needed to be generated\n",
    "        \"\"\"\n",
    "        v = np.random.choice([0, 1], size=(100, self.layer_n[-1]))\n",
    "        for layer in self.layer[:-1]:\n",
    "            v = layer.sample_h(v)[0]\n",
    "        _, _, _, v, _, _ = self.layer[-1].gibbs_k(v, k)\n",
    "        \n",
    "        g_layer = copy.deepcopy(self.layer[:-1])\n",
    "        g_layer.reverse()\n",
    "        for layer in g_layer:\n",
    "            v = layer.sample_v(v)[0]\n",
    "        return v   "
   ]
  },
  {
   "cell_type": "code",
   "execution_count": 3,
   "metadata": {},
   "outputs": [],
   "source": [
    "class Args():\n",
    "    def __init__(self):\n",
    "        self.max_epoch = 1000\n",
    "        self.k = 5\n",
    "        self.lr = 0.1\n",
    "        self.train = '../data/digitstrain.txt'\n",
    "        self.valid = '../data/digitsvalid.txt'\n",
    "        self.test = \"../data/digitstest.txt\"\n",
    "        self.n_hidden = 100"
   ]
  },
  {
   "cell_type": "code",
   "execution_count": 4,
   "metadata": {},
   "outputs": [],
   "source": [
    "if __name__ == \"__main__\":\n",
    "    np.seterr(all='raise')\n",
    "\n",
    "    args = Args()\n",
    "\n",
    "    train_data = np.genfromtxt(args.train, delimiter=\",\")\n",
    "    train_X = train_data[:, :-1]\n",
    "    train_Y = train_data[:, -1]\n",
    "    train_X = binary_data(train_X)\n",
    "    valid_data = np.genfromtxt(args.valid, delimiter=\",\")\n",
    "    valid_X = valid_data[:, :-1]\n",
    "    valid_X = binary_data(valid_X)\n",
    "    valid_Y = valid_data[:, -1]\n",
    "    test_data = np.genfromtxt(args.test, delimiter=\",\")\n",
    "    test_X = test_data[:, :-1]\n",
    "    test_X = binary_data(test_X)\n",
    "    test_Y = test_data[:, -1]\n",
    "    \n",
    "    model = DBN(784, [100, 100, 100, 784], k=args.k)\n",
    "    \n",
    "    model.train(train_X)\n",
    "    kkk = model.generate(train_X)"
   ]
  }
 ],
 "metadata": {
  "kernelspec": {
   "display_name": "Python 3",
   "language": "python",
   "name": "python3"
  },
  "language_info": {
   "codemirror_mode": {
    "name": "ipython",
    "version": 3
   },
   "file_extension": ".py",
   "mimetype": "text/x-python",
   "name": "python",
   "nbconvert_exporter": "python",
   "pygments_lexer": "ipython3",
   "version": "3.7.3"
  }
 },
 "nbformat": 4,
 "nbformat_minor": 2
}
